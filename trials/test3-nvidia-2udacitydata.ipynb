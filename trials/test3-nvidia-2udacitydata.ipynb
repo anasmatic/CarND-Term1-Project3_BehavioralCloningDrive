{
 "cells": [
  {
   "cell_type": "code",
   "execution_count": 1,
   "metadata": {
    "collapsed": true,
    "deletable": true,
    "editable": true
   },
   "outputs": [],
   "source": [
    "import csv\n",
    "import cv2\n",
    "import numpy as np\n",
    "import sklearn\n",
    "import matplotlib.pyplot as plt\n",
    "# Visualizations will be shown in the notebook.\n",
    "%matplotlib inline\n",
    "import time"
   ]
  },
  {
   "cell_type": "code",
   "execution_count": 2,
   "metadata": {
    "collapsed": false,
    "deletable": true,
    "editable": true
   },
   "outputs": [
    {
     "name": "stdout",
     "output_type": "stream",
     "text": [
      "lines 8036\n",
      "0: ['IMG/center_2016_12_01_13_30_48_287.jpg', ' IMG/left_2016_12_01_13_30_48_287.jpg', ' IMG/right_2016_12_01_13_30_48_287.jpg', ' 0', ' 0', ' 0', ' 22.14829']\n",
      "_time  0.22493290901184082\n"
     ]
    }
   ],
   "source": [
    "_time = time.time()\n",
    "lines = []\n",
    "with open(\"data/driving_log.csv\") as csvfile:\n",
    "    reader = csv.reader(csvfile)\n",
    "    for line in reader:\n",
    "        lines.append(line)\n",
    "lines = lines[1:]\n",
    "        \n",
    "print(\"lines\",len(lines))#passed\n",
    "print(\"0:\",lines[0])\n",
    "print(\"_time \",(time.time() - _time))"
   ]
  },
  {
   "cell_type": "code",
   "execution_count": 3,
   "metadata": {
    "collapsed": false,
    "deletable": true,
    "editable": true
   },
   "outputs": [
    {
     "name": "stdout",
     "output_type": "stream",
     "text": [
      "train_samples 6428\n",
      "validation_samples 1608\n",
      "\n",
      "_time  1.0468907356262207\n"
     ]
    }
   ],
   "source": [
    "_time = time.time()\n",
    "from sklearn.model_selection import train_test_split\n",
    "train_samples, validation_samples = train_test_split(lines, test_size=0.2)\n",
    "print(\"train_samples\",len(train_samples))\n",
    "print(\"validation_samples\",len(validation_samples))\n",
    "print(\"\\n_time \",(time.time() - _time))"
   ]
  },
  {
   "cell_type": "code",
   "execution_count": 4,
   "metadata": {
    "collapsed": false,
    "deletable": true,
    "editable": true
   },
   "outputs": [
    {
     "name": "stdout",
     "output_type": "stream",
     "text": [
      "_time  0.0010006427764892578\n"
     ]
    }
   ],
   "source": [
    "from sklearn.utils import shuffle\n",
    "_time = time.time()\n",
    "\"\"\"\n",
    "images = []\n",
    "measures = []\n",
    "filename = ''\n",
    "current_path = ''\n",
    "for line in lines:\n",
    "    for i in range(3):\n",
    "        source_path = line[i]\n",
    "        filename = source_path.split('\\\\')[-1]\n",
    "        current_path = \"data/IMG/\"+filename\n",
    "        image = cv2.imread(current_path)\n",
    "        #image = cv2.imread(source_path)\n",
    "        images.append(image)\n",
    "        images.append(cv2.flip(image,1))\n",
    "        measure = float(line[i+3])\n",
    "        measures.append(measure)\n",
    "        measures.append(measure*-1.0)\n",
    "\"\"\"  \n",
    "BATCH_SIZE =32\n",
    "\n",
    "def generator(samples, batch_size=32):\n",
    "    correction = 0.2\n",
    "    num_samples = len(samples)\n",
    "    while True: # Loop forever so the generator never terminates\n",
    "        shuffle(samples)\n",
    "        for offset in range(0, num_samples, batch_size):\n",
    "            batch_samples = samples[offset:offset+batch_size]\n",
    "\n",
    "            images = []\n",
    "            angles = []\n",
    "            for batch_sample in batch_samples:\n",
    "                for i in range(3):\n",
    "                    #if(i == 0):\n",
    "                    source_path = batch_sample[i]\n",
    "                    source_path = source_path.replace(\" \", \"\")\n",
    "                    current_path = \"data/\"+source_path\n",
    "                    image = cv2.imread(current_path)\n",
    "                    image = cv2.resize(image, (0,0), fx=0.5, fy=0.5)\n",
    "                    image = cv2.cvtColor(image, cv2.COLOR_BGR2RGB)\n",
    "                    images.append(image)\n",
    "                    measure = float(batch_sample[3])\n",
    "                    #\"\"\"    \n",
    "                    if(i == 1):#left vam\n",
    "                        measure = float(batch_sample[3]) + correction\n",
    "                    elif(i == 2):#right cam\n",
    "                        measure = float(batch_sample[3]) - correction\n",
    "                    #\"\"\"\n",
    "                    angles.append(measure)\n",
    "                    #flip data\n",
    "                    images.append(cv2.flip(image,1))\n",
    "                    angles.append(measure*-1.0)\n",
    "                    \n",
    "            # trim image to only see section with road\n",
    "            X_train = np.array(images)\n",
    "            y_train = np.array(angles)\n",
    "            train_shuffled = sklearn.utils.shuffle(X_train, y_train)\n",
    "            yield(train_shuffled[0] , train_shuffled[1])\n",
    "            #yield (X_train, y_train)\n",
    "\n",
    "train_generator = generator(train_samples, batch_size=BATCH_SIZE)\n",
    "validation_generator = generator(validation_samples, batch_size=BATCH_SIZE)\n",
    "\n",
    "#print(\"measures\",len(measures))#passed\n",
    "#print(\"measures ex:\",measures[len(measures)-1])#passed\n",
    "#print(\"images\",len(images))#passed\n",
    "\n",
    "print(\"_time \",(time.time() - _time))"
   ]
  },
  {
   "cell_type": "code",
   "execution_count": 5,
   "metadata": {
    "collapsed": false,
    "deletable": true,
    "editable": true
   },
   "outputs": [
    {
     "name": "stdout",
     "output_type": "stream",
     "text": [
      "<generator object generator at 0x0000024649DEBCA8>\n",
      "<class 'tuple'>\n",
      "192\n",
      "label: -0.2\n"
     ]
    },
    {
     "data": {
      "image/png": "[encoded data removed]",
      "text/plain": [
       "<matplotlib.figure.Figure at 0x2464b4241d0>"
      ]
     },
     "metadata": {},
     "output_type": "display_data"
    }
   ],
   "source": [
    "#making sure generator is fine\n",
    "\n",
    "print(train_generator)\n",
    "el_next = next(train_generator)\n",
    "print(type(el_next))\n",
    "print(len(el_next[0]))\n",
    "print(\"label:\",el_next[1][0])\n",
    "#\"\"\"\n",
    "#print(train_samples[0])\n",
    "test_image = np.array(el_next[0][0])\n",
    "\n",
    "\n",
    "#cv_rgb = cv2.cvtColor(images[0], cv2.COLOR_BGR2RGB)\n",
    "plt.imshow(test_image)\n",
    "plt.show()\n",
    "#\"\"\""
   ]
  },
  {
   "cell_type": "code",
   "execution_count": 6,
   "metadata": {
    "collapsed": false,
    "deletable": true,
    "editable": true
   },
   "outputs": [
    {
     "name": "stderr",
     "output_type": "stream",
     "text": [
      "Using TensorFlow backend.\n"
     ]
    }
   ],
   "source": [
    "from keras.models import Sequential\n",
    "from keras.layers import Flatten, Dense, Lambda, MaxPooling2D, Conv2D, Cropping2D, Dropout"
   ]
  },
  {
   "cell_type": "code",
   "execution_count": 9,
   "metadata": {
    "collapsed": false,
    "deletable": true,
    "editable": true
   },
   "outputs": [
    {
     "name": "stdout",
     "output_type": "stream",
     "text": [
      "_________________________________________________________________\n",
      "Layer (type)                 Output Shape              Param #   \n",
      "=================================================================\n",
      "lambda_2 (Lambda)            (None, 80, 160, 3)        0         \n",
      "_________________________________________________________________\n",
      "cropping2d_2 (Cropping2D)    (None, 33, 158, 3)        0         \n",
      "_________________________________________________________________\n",
      "conv2d_4 (Conv2D)            (None, 31, 156, 16)       448       \n",
      "_________________________________________________________________\n",
      "conv2d_5 (Conv2D)            (None, 29, 154, 32)       4640      \n",
      "_________________________________________________________________\n",
      "conv2d_6 (Conv2D)            (None, 27, 152, 64)       18496     \n",
      "_________________________________________________________________\n",
      "flatten_2 (Flatten)          (None, 262656)            0         \n",
      "_________________________________________________________________\n",
      "dense_4 (Dense)              (None, 500)               131328500 \n",
      "_________________________________________________________________\n",
      "dense_5 (Dense)              (None, 100)               50100     \n",
      "_________________________________________________________________\n",
      "dense_6 (Dense)              (None, 20)                2020      \n",
      "_________________________________________________________________\n",
      "dense_7 (Dense)              (None, 1)                 21        \n",
      "=================================================================\n",
      "Total params: 131,404,225\n",
      "Trainable params: 131,404,225\n",
      "Non-trainable params: 0\n",
      "_________________________________________________________________\n",
      "_time  0.29525113105773926\n"
     ]
    }
   ],
   "source": [
    "_time = time.time()\n",
    "#ch, row, col = 3, 80, 320  # Trimmed image format\n",
    "ch, row, col = 3, 160*.5, 320*.5  # Trimmed image format\n",
    "#model :\n",
    "model = Sequential()\n",
    "#normalize and mean center\n",
    "model.add(Lambda(lambda x: (x/255.0) - 0.5, input_shape=(row,col,ch)))# output(None, 80, 160, 3)\n",
    "model.add(Cropping2D(cropping=((35,12), (1,1)), input_shape=(row,col,ch)))# output (None, 33, 160, 3) \n",
    "#NVidia\n",
    "model.add(Conv2D(16,(3, 3), input_shape=(33, 158, 3), activation='relu'))\n",
    "#model.add(MaxPooling2D((2, 2)))\n",
    "model.add(Conv2D(32,(3, 3), activation='relu'))\n",
    "#model.add(MaxPooling2D((2, 2)))\n",
    "model.add(Conv2D(64,(3, 3), activation='relu'))\n",
    "#model.add(MaxPooling2D((2, 2)))\n",
    "model.add(Flatten())\n",
    "model.add(Dense(500, activation='relu'))\n",
    "#model.add(Dropout(.5))\n",
    "model.add(Dense(100, activation='relu'))\n",
    "#model.add(Dropout(.25))\n",
    "model.add(Dense(20, activation='relu'))\n",
    "model.add(Dense(1))\n",
    "\n",
    "\n",
    "model.summary()\n",
    "\n",
    "print(\"_time \",(time.time() - _time))"
   ]
  },
  {
   "cell_type": "code",
   "execution_count": null,
   "metadata": {
    "collapsed": false,
    "deletable": true,
    "editable": true
   },
   "outputs": [
    {
     "name": "stdout",
     "output_type": "stream",
     "text": [
      "Epoch 1/5\n",
      "  1/200 [..............................] - ETA: 4746s - loss: 0.0477"
     ]
    }
   ],
   "source": [
    "from keras.optimizers import Adam\n",
    "\n",
    "_time = time.time()\n",
    "\n",
    "#train\n",
    "model.compile(loss='mse', optimizer=Adam(lr=0.00001))\n",
    "#hist = model.fit(X_train_test, y_train_test, validation_split=0.2, shuffle=True, epochs=10, verbose=1)\n",
    "#hist = model.fit_generator(train_generator, samples_per_epoch=len(train_samples), validation_data=validation_generator, nb_val_samples=len(validation_samples), nb_epoch=10)\n",
    "hist = model.fit_generator(train_generator, steps_per_epoch=len(train_samples)/BATCH_SIZE, validation_data=validation_generator, validation_steps=len(validation_samples)/BATCH_SIZE, epochs=5)\n",
    "#hist = model.fit_generator(train_generator, steps_per_epoch=len(train_samples)/batch_size)\n",
    "\n",
    "#hist = model.fit_generator(train_generator,steps_per_epoch=200, validation_steps=30, epochs=3,validation_data=validation_generator)\n",
    "print(\"_time \",(time.time() - _time))\n"
   ]
  },
  {
   "cell_type": "code",
   "execution_count": 2,
   "metadata": {
    "collapsed": false,
    "deletable": true,
    "editable": true
   },
   "outputs": [
    {
     "data": {
      "image/png": "[encoded data removed]",
      "text/plain": [
       "<matplotlib.figure.Figure at 0x26d7b83d3c8>"
      ]
     },
     "metadata": {},
     "output_type": "display_data"
    }
   ],
   "source": [
    "#print(hist.history)\n",
    "history = {'loss': [0.042113024443387985, 0.036458425650471138, 0.03298324358228006, 0.030808691205947022, 0.028781951843123686,0.0271,0.0244,0.0224], 'val_loss': [0.038313644727754219, 0.035464096210589574, 0.031828910328286802, 0.029624275533822759, 0.0286102315048689,0.0267,0.0256,0.0258]}\n",
    "plt.plot(history['loss'])\n",
    "plt.plot(history['val_loss'])\n",
    "plt.title('model mean squared error loss')\n",
    "plt.ylabel('mean squared error loss')\n",
    "plt.xlabel('epoch')\n",
    "plt.legend(['training set', 'validation set'], loc='upper right')\n",
    "plt.show()"
   ]
  },
  {
   "cell_type": "code",
   "execution_count": 19,
   "metadata": {
    "collapsed": true,
    "deletable": true,
    "editable": true
   },
   "outputs": [],
   "source": [
    "#save\n",
    "model.save('model_nvidia_fixed1.h5')"
   ]
  },
  {
   "cell_type": "code",
   "execution_count": null,
   "metadata": {
    "collapsed": false,
    "deletable": true,
    "editable": true
   },
   "outputs": [],
   "source": [
    "#checkpoint--------------------------------------\n",
    "#load\n",
    "from keras.models import load_model\n",
    "continue_model = load_model('model.h5')"
   ]
  },
  {
   "cell_type": "code",
   "execution_count": null,
   "metadata": {
    "collapsed": false,
    "deletable": true,
    "editable": true
   },
   "outputs": [],
   "source": [
    "continue_model.compile(loss='mse', optimizer='adam')\n",
    "continue_model.fit(X_train_test, y_train_test, validation_split=0.2, shuffle=True, epochs=4, verbose=1)"
   ]
  },
  {
   "cell_type": "code",
   "execution_count": 32,
   "metadata": {
    "collapsed": true,
    "deletable": true,
    "editable": true
   },
   "outputs": [],
   "source": [
    "del model"
   ]
  },
  {
   "cell_type": "code",
   "execution_count": null,
   "metadata": {
    "collapsed": true,
    "deletable": true,
    "editable": true
   },
   "outputs": [],
   "source": []
  }
 ],
 "metadata": {
  "kernelspec": {
   "display_name": "Python 3",
   "language": "python",
   "name": "python3"
  },
  "language_info": {
   "codemirror_mode": {
    "name": "ipython",
    "version": 3
   },
   "file_extension": ".py",
   "mimetype": "text/x-python",
   "name": "python",
   "nbconvert_exporter": "python",
   "pygments_lexer": "ipython3",
   "version": "3.5.2"
  },
  "widgets": {
   "state": {},
   "version": "1.1.2"
  }
 },
 "nbformat": 4,
 "nbformat_minor": 2
}
